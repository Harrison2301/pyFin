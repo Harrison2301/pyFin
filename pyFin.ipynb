{
  "nbformat": 4,
  "nbformat_minor": 0,
  "metadata": {
    "colab": {
      "name": "pyFin.ipynb",
      "provenance": [],
      "collapsed_sections": [],
      "authorship_tag": "ABX9TyP2eMPNnPrCCZNssznqufS3"
    },
    "kernelspec": {
      "name": "python3",
      "display_name": "Python 3"
    }
  },
  "cells": [
    {
      "cell_type": "code",
      "metadata": {
        "id": "7Wsn-A2Yme7v",
        "colab_type": "code",
        "colab": {}
      },
      "source": [
        "pip install quandl"
      ],
      "execution_count": 0,
      "outputs": []
    },
    {
      "cell_type": "code",
      "metadata": {
        "id": "jlaYvTY_nL85",
        "colab_type": "code",
        "colab": {}
      },
      "source": [
        "import quandl\n",
        "import numpy as np\n",
        "from sklearn.linear_model import LinearRegression\n",
        "from sklearn.svm import SVR \n",
        "from sklearn.model_selection import train_test_split\n"
      ],
      "execution_count": 0,
      "outputs": []
    },
    {
      "cell_type": "code",
      "metadata": {
        "id": "A8xMpxoZnpdj",
        "colab_type": "code",
        "colab": {}
      },
      "source": [
        "#stock data\n",
        "df = quandl.get(\"WIKI/FB\")\n",
        "print(df.head())"
      ],
      "execution_count": 0,
      "outputs": []
    },
    {
      "cell_type": "code",
      "metadata": {
        "id": "klT9UJVp1m3m",
        "colab_type": "code",
        "colab": {}
      },
      "source": [
        "# get adjusted close price\n",
        "df = df[['Adj. Close']]\n",
        "print(df.head())"
      ],
      "execution_count": 0,
      "outputs": []
    },
    {
      "cell_type": "code",
      "metadata": {
        "id": "Q8UUn5n214vn",
        "colab_type": "code",
        "colab": {}
      },
      "source": [
        "forecast_out = 30\n",
        "df['Prediction'] = df[['Adj. Close']].shift(-forecast_out)\n",
        "print(df.tail())"
      ],
      "execution_count": 0,
      "outputs": []
    },
    {
      "cell_type": "code",
      "metadata": {
        "id": "5eK94A4F4UVX",
        "colab_type": "code",
        "colab": {}
      },
      "source": [
        "X = np.array(df.drop(['Prediction'], 1))\n",
        "X = X[:-forecast_out]\n",
        "print(X)\n"
      ],
      "execution_count": 0,
      "outputs": []
    },
    {
      "cell_type": "code",
      "metadata": {
        "id": "RlZeNuc36ygW",
        "colab_type": "code",
        "colab": {}
      },
      "source": [
        "y = np.array(df['Prediction'])\n",
        "\n",
        "y = y[:-forecast_out]\n",
        "print(y)\n"
      ],
      "execution_count": 0,
      "outputs": []
    }
  ]
}