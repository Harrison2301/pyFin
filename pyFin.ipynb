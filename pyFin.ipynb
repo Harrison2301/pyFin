{
  "nbformat": 4,
  "nbformat_minor": 0,
  "metadata": {
    "colab": {
      "name": "pyFin.ipynb",
      "provenance": [],
      "authorship_tag": "ABX9TyPQVGJtpL4itwlyz/TNo6nX"
    },
    "kernelspec": {
      "name": "python3",
      "display_name": "Python 3"
    }
  },
  "cells": [
    {
      "cell_type": "code",
      "metadata": {
        "id": "FEfFVSc2lTHM",
        "colab_type": "code",
        "colab": {
          "base_uri": "https://localhost:8080/",
          "height": 34
        },
        "outputId": "17b6c19a-15de-493b-adba-e4ceec4684de"
      },
      "source": [
        "print('Test')"
      ],
      "execution_count": 2,
      "outputs": [
        {
          "output_type": "stream",
          "text": [
            "Test\n"
          ],
          "name": "stdout"
        }
      ]
    }
  ]
}